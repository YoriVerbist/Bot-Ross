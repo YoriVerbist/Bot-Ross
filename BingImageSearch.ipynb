{
 "cells": [
  {
   "cell_type": "markdown",
   "metadata": {},
   "source": [
    "I've created a helper function to retreive bing images to make our lives a bit easier.\n",
    "Now we can use this function to get the images we want."
   ]
  },
  {
   "cell_type": "code",
   "execution_count": 11,
   "metadata": {},
   "outputs": [
    {
     "name": "stdout",
     "output_type": "stream",
     "text": [
      "Requirement already satisfied: requests in /home/yori/Documents/School/3ITF/DL/envs/paintings/lib/python3.8/site-packages (2.25.0)\n",
      "Collecting fastai\n",
      "  Using cached fastai-2.1.8-py3-none-any.whl (189 kB)\n",
      "Requirement already satisfied: chardet<4,>=3.0.2 in /home/yori/Documents/School/3ITF/DL/envs/paintings/lib/python3.8/site-packages (from requests) (3.0.4)\n",
      "Requirement already satisfied: idna<3,>=2.5 in /home/yori/Documents/School/3ITF/DL/envs/paintings/lib/python3.8/site-packages (from requests) (2.10)\n",
      "Requirement already satisfied: certifi>=2017.4.17 in /home/yori/Documents/School/3ITF/DL/envs/paintings/lib/python3.8/site-packages (from requests) (2020.11.8)\n",
      "Requirement already satisfied: urllib3<1.27,>=1.21.1 in /home/yori/Documents/School/3ITF/DL/envs/paintings/lib/python3.8/site-packages (from requests) (1.26.2)\n",
      "Collecting scikit-learn\n",
      "  Using cached scikit_learn-0.23.2-cp38-cp38-manylinux1_x86_64.whl (6.8 MB)\n",
      "Requirement already satisfied: matplotlib in /home/yori/Documents/School/3ITF/DL/envs/paintings/lib/python3.8/site-packages (from fastai) (3.3.2)\n",
      "Requirement already satisfied: torch>=1.7.0 in /home/yori/Documents/School/3ITF/DL/envs/paintings/lib/python3.8/site-packages (from fastai) (1.7.0)\n",
      "Requirement already satisfied: pip in /home/yori/Documents/School/3ITF/DL/envs/paintings/lib/python3.8/site-packages (from fastai) (20.0.2)\n",
      "Collecting scipy\n",
      "  Using cached scipy-1.5.4-cp38-cp38-manylinux1_x86_64.whl (25.8 MB)\n",
      "Collecting fastcore>=1.3.8\n",
      "  Using cached fastcore-1.3.10-py3-none-any.whl (51 kB)\n",
      "Collecting fastprogress>=0.2.4\n",
      "  Using cached fastprogress-1.0.0-py3-none-any.whl (12 kB)\n",
      "Requirement already satisfied: packaging in /home/yori/Documents/School/3ITF/DL/envs/paintings/lib/python3.8/site-packages (from fastai) (20.4)\n",
      "Requirement already satisfied: pillow in /home/yori/Documents/School/3ITF/DL/envs/paintings/lib/python3.8/site-packages (from fastai) (8.0.1)\n",
      "Collecting pyyaml\n",
      "  Using cached PyYAML-5.3.1.tar.gz (269 kB)\n",
      "Collecting spacy\n",
      "  Using cached spacy-2.3.4-cp38-cp38-manylinux2014_x86_64.whl (10.5 MB)\n",
      "Requirement already satisfied: torchvision>=0.8 in /home/yori/Documents/School/3ITF/DL/envs/paintings/lib/python3.8/site-packages (from fastai) (0.8.1)\n",
      "Collecting pandas\n",
      "  Using cached pandas-1.1.4-cp38-cp38-manylinux1_x86_64.whl (9.3 MB)\n",
      "Collecting threadpoolctl>=2.0.0\n",
      "  Using cached threadpoolctl-2.1.0-py3-none-any.whl (12 kB)\n",
      "Collecting joblib>=0.11\n",
      "  Using cached joblib-0.17.0-py3-none-any.whl (301 kB)\n",
      "Requirement already satisfied: numpy>=1.13.3 in /home/yori/Documents/School/3ITF/DL/envs/paintings/lib/python3.8/site-packages (from scikit-learn->fastai) (1.19.4)\n",
      "Requirement already satisfied: cycler>=0.10 in /home/yori/Documents/School/3ITF/DL/envs/paintings/lib/python3.8/site-packages (from matplotlib->fastai) (0.10.0)\n",
      "Requirement already satisfied: python-dateutil>=2.1 in /home/yori/Documents/School/3ITF/DL/envs/paintings/lib/python3.8/site-packages (from matplotlib->fastai) (2.8.1)\n",
      "Requirement already satisfied: kiwisolver>=1.0.1 in /home/yori/Documents/School/3ITF/DL/envs/paintings/lib/python3.8/site-packages (from matplotlib->fastai) (1.3.1)\n",
      "Requirement already satisfied: pyparsing!=2.0.4,!=2.1.2,!=2.1.6,>=2.0.3 in /home/yori/Documents/School/3ITF/DL/envs/paintings/lib/python3.8/site-packages (from matplotlib->fastai) (2.4.7)\n",
      "Requirement already satisfied: future in /home/yori/Documents/School/3ITF/DL/envs/paintings/lib/python3.8/site-packages (from torch>=1.7.0->fastai) (0.18.2)\n",
      "Requirement already satisfied: typing-extensions in /home/yori/Documents/School/3ITF/DL/envs/paintings/lib/python3.8/site-packages (from torch>=1.7.0->fastai) (3.7.4.3)\n",
      "Requirement already satisfied: dataclasses in /home/yori/Documents/School/3ITF/DL/envs/paintings/lib/python3.8/site-packages (from torch>=1.7.0->fastai) (0.6)\n",
      "Requirement already satisfied: six in /home/yori/Documents/School/3ITF/DL/envs/paintings/lib/python3.8/site-packages (from packaging->fastai) (1.15.0)\n",
      "Collecting cymem<2.1.0,>=2.0.2\n",
      "  Using cached cymem-2.0.4-cp38-cp38-manylinux2014_x86_64.whl (35 kB)\n",
      "Collecting srsly<1.1.0,>=1.0.2\n",
      "  Using cached srsly-1.0.4-cp38-cp38-manylinux2014_x86_64.whl (295 kB)\n",
      "Collecting thinc<7.5.0,>=7.4.1\n",
      "  Using cached thinc-7.4.3-cp38-cp38-manylinux2014_x86_64.whl (1.1 MB)\n",
      "Collecting catalogue<1.1.0,>=0.0.7\n",
      "  Using cached catalogue-1.0.0-py2.py3-none-any.whl (7.7 kB)\n",
      "Collecting blis<0.8.0,>=0.4.0; python_version >= \"3.6\"\n",
      "  Using cached blis-0.7.3-cp38-cp38-manylinux2014_x86_64.whl (9.8 MB)\n",
      "Collecting wasabi<1.1.0,>=0.4.0\n",
      "  Using cached wasabi-0.8.0-py3-none-any.whl (23 kB)\n",
      "Collecting murmurhash<1.1.0,>=0.28.0\n",
      "  Using cached murmurhash-1.0.4-cp38-cp38-manylinux2014_x86_64.whl (20 kB)\n",
      "Collecting preshed<3.1.0,>=3.0.2\n",
      "  Using cached preshed-3.0.4-cp38-cp38-manylinux2014_x86_64.whl (288 kB)\n",
      "Collecting tqdm<5.0.0,>=4.38.0\n",
      "  Using cached tqdm-4.54.0-py2.py3-none-any.whl (69 kB)\n",
      "Collecting plac<1.2.0,>=0.9.6\n",
      "  Using cached plac-1.1.3-py2.py3-none-any.whl (20 kB)\n",
      "Requirement already satisfied: setuptools in /home/yori/Documents/School/3ITF/DL/envs/paintings/lib/python3.8/site-packages (from spacy->fastai) (44.0.0)\n",
      "Collecting pytz>=2017.2\n",
      "  Using cached pytz-2020.4-py2.py3-none-any.whl (509 kB)\n",
      "Building wheels for collected packages: pyyaml\n",
      "  Building wheel for pyyaml (setup.py) ... \u001b[?25lerror\n",
      "\u001b[31m  ERROR: Command errored out with exit status 1:\n",
      "   command: /home/yori/Documents/School/3ITF/DL/envs/paintings/bin/python3 -u -c 'import sys, setuptools, tokenize; sys.argv[0] = '\"'\"'/tmp/pip-install-bfeo9w01/pyyaml/setup.py'\"'\"'; __file__='\"'\"'/tmp/pip-install-bfeo9w01/pyyaml/setup.py'\"'\"';f=getattr(tokenize, '\"'\"'open'\"'\"', open)(__file__);code=f.read().replace('\"'\"'\\r\\n'\"'\"', '\"'\"'\\n'\"'\"');f.close();exec(compile(code, __file__, '\"'\"'exec'\"'\"'))' bdist_wheel -d /tmp/pip-wheel-qo98bkeo\n",
      "       cwd: /tmp/pip-install-bfeo9w01/pyyaml/\n",
      "  Complete output (6 lines):\n",
      "  usage: setup.py [global_opts] cmd1 [cmd1_opts] [cmd2 [cmd2_opts] ...]\n",
      "     or: setup.py --help [cmd1 cmd2 ...]\n",
      "     or: setup.py --help-commands\n",
      "     or: setup.py cmd --help\n",
      "  \n",
      "  error: invalid command 'bdist_wheel'\n",
      "  ----------------------------------------\u001b[0m\n",
      "\u001b[31m  ERROR: Failed building wheel for pyyaml\u001b[0m\n",
      "\u001b[?25h  Running setup.py clean for pyyaml\n",
      "Failed to build pyyaml\n",
      "Installing collected packages: threadpoolctl, joblib, scipy, scikit-learn, fastcore, fastprogress, pyyaml, cymem, srsly, catalogue, tqdm, plac, murmurhash, blis, wasabi, preshed, thinc, spacy, pytz, pandas, fastai\n",
      "    Running setup.py install for pyyaml ... \u001b[?25ldone\n",
      "\u001b[?25hSuccessfully installed blis-0.7.3 catalogue-1.0.0 cymem-2.0.4 fastai-2.1.8 fastcore-1.3.10 fastprogress-1.0.0 joblib-0.17.0 murmurhash-1.0.4 pandas-1.1.4 plac-1.1.3 preshed-3.0.4 pytz-2020.4 pyyaml-5.3.1 scikit-learn-0.23.2 scipy-1.5.4 spacy-2.3.4 srsly-1.0.4 thinc-7.4.3 threadpoolctl-2.1.0 tqdm-4.54.0 wasabi-0.8.0\n"
     ]
    }
   ],
   "source": [
    "!pip install requests fastai"
   ]
  },
  {
   "cell_type": "code",
   "execution_count": 12,
   "metadata": {},
   "outputs": [],
   "source": [
    "import math\n",
    "import requests\n",
    "def search_bing_images(key, term, count=150):\n",
    "    subscription_key = key\n",
    "    search_url = 'https://api.bing.microsoft.com/v7.0/images/search'\n",
    "    search_term = term\n",
    "    headers  = {\"Ocp-Apim-Subscription-Key\":API-KEY}\n",
    "    \n",
    "    total = []\n",
    "    \n",
    "    if(count>150):\n",
    "        rest = count\n",
    "        amount = math.ceil(count/150)\n",
    "        for i in range(amount):\n",
    "            params = {\"q\":search_term, 'mkt':'en-US', 'count': 150 if rest>150 else rest, 'offset':i*150, \"license\":\"public\", \"imageType\":\"photo\"}\n",
    "            rest-=150\n",
    "            response = requests.get(search_url, headers=headers, params=params)\n",
    "            response.raise_for_status()\n",
    "            search_results = response.json()\n",
    "            thumbnails = [img['thumbnailUrl'] for img in search_results['value']]\n",
    "            total.extend(thumbnails)\n",
    "    else:\n",
    "        params = {\"q\":search_term,'mkt':'en-US', 'count':count , \"license\":\"public\", \"imageType\":\"photo\"}\n",
    "        response = requests.get(search_url, headers=headers, params=params)\n",
    "        response.raise_for_status()\n",
    "        search_results = response.json()\n",
    "        thumbnails = [img['thumbnailUrl'] for img in search_results['value']]\n",
    "        total = thumbnails\n",
    "        \n",
    "    return total"
   ]
  },
  {
   "cell_type": "markdown",
   "metadata": {},
   "source": [
    "Use the helper function to retreive 100 van gogh images. "
   ]
  },
  {
   "cell_type": "code",
   "execution_count": 13,
   "metadata": {},
   "outputs": [],
   "source": [
    "van_gogh_images = search_bing_images('API-KEY', 'van gogh paintings', count=100)"
   ]
  },
  {
   "cell_type": "code",
   "execution_count": 14,
   "metadata": {},
   "outputs": [],
   "source": [
    "from fastai.vision.all import *"
   ]
  },
  {
   "cell_type": "markdown",
   "metadata": {},
   "source": [
    "Download the images to a folder. Temp folder atm -> resources/van-gogh"
   ]
  },
  {
   "cell_type": "code",
   "execution_count": 15,
   "metadata": {
    "scrolled": true
   },
   "outputs": [
    {
     "ename": "FileNotFoundError",
     "evalue": "[Errno 2] No such file or directory: 'resources/van-gogh'",
     "output_type": "error",
     "traceback": [
      "\u001b[0;31m---------------------------------------------------------------------------\u001b[0m",
      "\u001b[0;31mFileNotFoundError\u001b[0m                         Traceback (most recent call last)",
      "\u001b[0;32m<ipython-input-15-5a649e0ad71d>\u001b[0m in \u001b[0;36m<module>\u001b[0;34m\u001b[0m\n\u001b[0;32m----> 1\u001b[0;31m \u001b[0mdownload_images\u001b[0m\u001b[0;34m(\u001b[0m\u001b[0;34m'resources/van-gogh'\u001b[0m\u001b[0;34m,\u001b[0m \u001b[0murls\u001b[0m\u001b[0;34m=\u001b[0m\u001b[0mvan_gogh_images\u001b[0m\u001b[0;34m,\u001b[0m \u001b[0mn_workers\u001b[0m\u001b[0;34m=\u001b[0m\u001b[0;36m1\u001b[0m\u001b[0;34m)\u001b[0m \u001b[0;31m#n_workers = 1 because microsoft :(\u001b[0m\u001b[0;34m\u001b[0m\u001b[0;34m\u001b[0m\u001b[0m\n\u001b[0m",
      "\u001b[0;32m~/Documents/School/3ITF/DL/envs/paintings/lib/python3.8/site-packages/fastai/vision/utils.py\u001b[0m in \u001b[0;36mdownload_images\u001b[0;34m(dest, url_file, urls, max_pics, n_workers, timeout, preserve_filename)\u001b[0m\n\u001b[1;32m     34\u001b[0m     \u001b[0;32mif\u001b[0m \u001b[0murls\u001b[0m \u001b[0;32mis\u001b[0m \u001b[0;32mNone\u001b[0m\u001b[0;34m:\u001b[0m \u001b[0murls\u001b[0m \u001b[0;34m=\u001b[0m \u001b[0murl_file\u001b[0m\u001b[0;34m.\u001b[0m\u001b[0mread_text\u001b[0m\u001b[0;34m(\u001b[0m\u001b[0;34m)\u001b[0m\u001b[0;34m.\u001b[0m\u001b[0mstrip\u001b[0m\u001b[0;34m(\u001b[0m\u001b[0;34m)\u001b[0m\u001b[0;34m.\u001b[0m\u001b[0msplit\u001b[0m\u001b[0;34m(\u001b[0m\u001b[0;34m\"\\n\"\u001b[0m\u001b[0;34m)\u001b[0m\u001b[0;34m[\u001b[0m\u001b[0;34m:\u001b[0m\u001b[0mmax_pics\u001b[0m\u001b[0;34m]\u001b[0m\u001b[0;34m\u001b[0m\u001b[0;34m\u001b[0m\u001b[0m\n\u001b[1;32m     35\u001b[0m     \u001b[0mdest\u001b[0m \u001b[0;34m=\u001b[0m \u001b[0mPath\u001b[0m\u001b[0;34m(\u001b[0m\u001b[0mdest\u001b[0m\u001b[0;34m)\u001b[0m\u001b[0;34m\u001b[0m\u001b[0;34m\u001b[0m\u001b[0m\n\u001b[0;32m---> 36\u001b[0;31m     \u001b[0mdest\u001b[0m\u001b[0;34m.\u001b[0m\u001b[0mmkdir\u001b[0m\u001b[0;34m(\u001b[0m\u001b[0mexist_ok\u001b[0m\u001b[0;34m=\u001b[0m\u001b[0;32mTrue\u001b[0m\u001b[0;34m)\u001b[0m\u001b[0;34m\u001b[0m\u001b[0;34m\u001b[0m\u001b[0m\n\u001b[0m\u001b[1;32m     37\u001b[0m     parallel(partial(_download_image_inner, dest, timeout=timeout, preserve_filename=preserve_filename),\n\u001b[1;32m     38\u001b[0m              list(enumerate(urls)), n_workers=n_workers)\n",
      "\u001b[0;32m/usr/lib/python3.8/pathlib.py\u001b[0m in \u001b[0;36mmkdir\u001b[0;34m(self, mode, parents, exist_ok)\u001b[0m\n\u001b[1;32m   1282\u001b[0m             \u001b[0mself\u001b[0m\u001b[0;34m.\u001b[0m\u001b[0m_raise_closed\u001b[0m\u001b[0;34m(\u001b[0m\u001b[0;34m)\u001b[0m\u001b[0;34m\u001b[0m\u001b[0;34m\u001b[0m\u001b[0m\n\u001b[1;32m   1283\u001b[0m         \u001b[0;32mtry\u001b[0m\u001b[0;34m:\u001b[0m\u001b[0;34m\u001b[0m\u001b[0;34m\u001b[0m\u001b[0m\n\u001b[0;32m-> 1284\u001b[0;31m             \u001b[0mself\u001b[0m\u001b[0;34m.\u001b[0m\u001b[0m_accessor\u001b[0m\u001b[0;34m.\u001b[0m\u001b[0mmkdir\u001b[0m\u001b[0;34m(\u001b[0m\u001b[0mself\u001b[0m\u001b[0;34m,\u001b[0m \u001b[0mmode\u001b[0m\u001b[0;34m)\u001b[0m\u001b[0;34m\u001b[0m\u001b[0;34m\u001b[0m\u001b[0m\n\u001b[0m\u001b[1;32m   1285\u001b[0m         \u001b[0;32mexcept\u001b[0m \u001b[0mFileNotFoundError\u001b[0m\u001b[0;34m:\u001b[0m\u001b[0;34m\u001b[0m\u001b[0;34m\u001b[0m\u001b[0m\n\u001b[1;32m   1286\u001b[0m             \u001b[0;32mif\u001b[0m \u001b[0;32mnot\u001b[0m \u001b[0mparents\u001b[0m \u001b[0;32mor\u001b[0m \u001b[0mself\u001b[0m\u001b[0;34m.\u001b[0m\u001b[0mparent\u001b[0m \u001b[0;34m==\u001b[0m \u001b[0mself\u001b[0m\u001b[0;34m:\u001b[0m\u001b[0;34m\u001b[0m\u001b[0;34m\u001b[0m\u001b[0m\n",
      "\u001b[0;31mFileNotFoundError\u001b[0m: [Errno 2] No such file or directory: 'resources/van-gogh'"
     ]
    }
   ],
   "source": [
    "download_images('resources/van-gogh', urls=van_gogh_images, n_workers=1) #n_workers = 1 because microsoft :( "
   ]
  },
  {
   "cell_type": "markdown",
   "metadata": {},
   "source": [
    "Now we can read the files"
   ]
  },
  {
   "cell_type": "code",
   "execution_count": null,
   "metadata": {},
   "outputs": [],
   "source": [
    "images = get_image_files('./resources/van-gogh')"
   ]
  },
  {
   "cell_type": "markdown",
   "metadata": {},
   "source": [
    "And print them 😊"
   ]
  },
  {
   "cell_type": "code",
   "execution_count": null,
   "metadata": {
    "scrolled": false
   },
   "outputs": [],
   "source": [
    "im = Image.open(images[0])\n",
    "im.to_thumb(128,128)"
   ]
  },
  {
   "cell_type": "markdown",
   "metadata": {},
   "source": [
    "Now let's repeat the process for other painters but let's automate the process because I'm lazy 😁"
   ]
  },
  {
   "cell_type": "code",
   "execution_count": null,
   "metadata": {},
   "outputs": [],
   "source": [
    "painters = ['van gogh', 'da vinci', 'cezanne', 'monet', 'dali', 'picasso']"
   ]
  },
  {
   "cell_type": "code",
<<<<<<< HEAD
   "execution_count": null,
=======
   "execution_count": 101,
>>>>>>> 90d136699636c37311023259c987ee398e10ce39
   "metadata": {},
   "outputs": [],
   "source": [
    "def download_paintings(painters):  \n",
    "    for painter in painters:      \n",
    "        print(f'Downloading {painter}')\n",
    "        path = 'resources/'+ '-'.join(painter.split())\n",
    "        query = painter + ' paintings'\n",
    "        urls = search_bing_images('APIKEY', query, count=300)\n",
    "        download_images(path, urls=urls, n_workers=1)\n",
    "        print(f'Finished {painter}')"
   ]
  },
  {
   "cell_type": "code",
<<<<<<< HEAD
   "execution_count": null,
   "metadata": {},
   "outputs": [],
=======
   "execution_count": 102,
   "metadata": {
    "scrolled": true
   },
   "outputs": [
    {
     "name": "stdout",
     "output_type": "stream",
     "text": [
      "Downloading van gogh\n"
     ]
    },
    {
     "data": {
      "text/html": [],
      "text/plain": [
       "<IPython.core.display.HTML object>"
      ]
     },
     "metadata": {},
     "output_type": "display_data"
    },
    {
     "name": "stdout",
     "output_type": "stream",
     "text": [
      "Finished van gogh\n",
      "Downloading da vinci\n"
     ]
    },
    {
     "data": {
      "text/html": [],
      "text/plain": [
       "<IPython.core.display.HTML object>"
      ]
     },
     "metadata": {},
     "output_type": "display_data"
    },
    {
     "name": "stdout",
     "output_type": "stream",
     "text": [
      "Finished da vinci\n",
      "Downloading cezanne\n"
     ]
    },
    {
     "data": {
      "text/html": [],
      "text/plain": [
       "<IPython.core.display.HTML object>"
      ]
     },
     "metadata": {},
     "output_type": "display_data"
    },
    {
     "name": "stdout",
     "output_type": "stream",
     "text": [
      "Finished cezanne\n",
      "Downloading monet\n"
     ]
    },
    {
     "data": {
      "text/html": [],
      "text/plain": [
       "<IPython.core.display.HTML object>"
      ]
     },
     "metadata": {},
     "output_type": "display_data"
    },
    {
     "name": "stdout",
     "output_type": "stream",
     "text": [
      "Finished monet\n",
      "Downloading dali\n"
     ]
    },
    {
     "data": {
      "text/html": [],
      "text/plain": [
       "<IPython.core.display.HTML object>"
      ]
     },
     "metadata": {},
     "output_type": "display_data"
    },
    {
     "name": "stdout",
     "output_type": "stream",
     "text": [
      "Finished dali\n",
      "Downloading picasso\n"
     ]
    },
    {
     "data": {
      "text/html": [],
      "text/plain": [
       "<IPython.core.display.HTML object>"
      ]
     },
     "metadata": {},
     "output_type": "display_data"
    },
    {
     "name": "stdout",
     "output_type": "stream",
     "text": [
      "Finished picasso\n"
     ]
    }
   ],
>>>>>>> 90d136699636c37311023259c987ee398e10ce39
   "source": [
    "download_paintings(painters)"
   ]
  }
 ],
 "metadata": {
  "kernelspec": {
   "display_name": "Python 3",
   "language": "python",
   "name": "python3"
  },
  "language_info": {
   "codemirror_mode": {
    "name": "ipython",
    "version": 3
   },
   "file_extension": ".py",
   "mimetype": "text/x-python",
   "name": "python",
   "nbconvert_exporter": "python",
   "pygments_lexer": "ipython3",
   "version": "3.8.5"
  }
 },
 "nbformat": 4,
 "nbformat_minor": 4
}
