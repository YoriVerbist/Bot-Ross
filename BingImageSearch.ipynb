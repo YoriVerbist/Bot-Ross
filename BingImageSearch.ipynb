{
 "cells": [
  {
   "cell_type": "markdown",
   "metadata": {},
   "source": [
    "I've created a helper function to retreive bing images to make our lives a bit easier.\n",
    "Now we can use this function to get the images we want."
   ]
  },
  {
   "cell_type": "code",
   "execution_count": 1,
   "metadata": {},
   "outputs": [
    {
     "name": "stdout",
     "output_type": "stream",
     "text": [
      "Requirement already satisfied: requests in /home/yori/Documents/School/3ITF/DL/envs/paintings/lib/python3.8/site-packages (2.25.0)\n",
      "Requirement already satisfied: fastai in /home/yori/Documents/School/3ITF/DL/envs/paintings/lib/python3.8/site-packages (2.1.8)\n",
      "Requirement already satisfied: idna<3,>=2.5 in /home/yori/Documents/School/3ITF/DL/envs/paintings/lib/python3.8/site-packages (from requests) (2.10)\n",
      "Requirement already satisfied: urllib3<1.27,>=1.21.1 in /home/yori/Documents/School/3ITF/DL/envs/paintings/lib/python3.8/site-packages (from requests) (1.26.2)\n",
      "Requirement already satisfied: certifi>=2017.4.17 in /home/yori/Documents/School/3ITF/DL/envs/paintings/lib/python3.8/site-packages (from requests) (2020.11.8)\n",
      "Requirement already satisfied: chardet<4,>=3.0.2 in /home/yori/Documents/School/3ITF/DL/envs/paintings/lib/python3.8/site-packages (from requests) (3.0.4)\n",
      "Requirement already satisfied: packaging in /home/yori/Documents/School/3ITF/DL/envs/paintings/lib/python3.8/site-packages (from fastai) (20.4)\n",
      "Requirement already satisfied: fastprogress>=0.2.4 in /home/yori/Documents/School/3ITF/DL/envs/paintings/lib/python3.8/site-packages (from fastai) (1.0.0)\n",
      "Requirement already satisfied: matplotlib in /home/yori/Documents/School/3ITF/DL/envs/paintings/lib/python3.8/site-packages (from fastai) (3.3.2)\n",
      "Requirement already satisfied: scikit-learn in /home/yori/Documents/School/3ITF/DL/envs/paintings/lib/python3.8/site-packages (from fastai) (0.23.2)\n",
      "Requirement already satisfied: pandas in /home/yori/Documents/School/3ITF/DL/envs/paintings/lib/python3.8/site-packages (from fastai) (1.1.4)\n",
      "Requirement already satisfied: pip in /home/yori/Documents/School/3ITF/DL/envs/paintings/lib/python3.8/site-packages (from fastai) (20.0.2)\n",
      "Requirement already satisfied: scipy in /home/yori/Documents/School/3ITF/DL/envs/paintings/lib/python3.8/site-packages (from fastai) (1.5.4)\n",
      "Requirement already satisfied: spacy in /home/yori/Documents/School/3ITF/DL/envs/paintings/lib/python3.8/site-packages (from fastai) (2.3.4)\n",
      "Requirement already satisfied: pyyaml in /home/yori/Documents/School/3ITF/DL/envs/paintings/lib/python3.8/site-packages (from fastai) (5.3.1)\n",
      "Requirement already satisfied: torchvision>=0.8 in /home/yori/Documents/School/3ITF/DL/envs/paintings/lib/python3.8/site-packages (from fastai) (0.8.1)\n",
      "Requirement already satisfied: fastcore>=1.3.8 in /home/yori/Documents/School/3ITF/DL/envs/paintings/lib/python3.8/site-packages (from fastai) (1.3.10)\n",
      "Requirement already satisfied: torch>=1.7.0 in /home/yori/Documents/School/3ITF/DL/envs/paintings/lib/python3.8/site-packages (from fastai) (1.7.0)\n",
      "Requirement already satisfied: pillow in /home/yori/Documents/School/3ITF/DL/envs/paintings/lib/python3.8/site-packages (from fastai) (7.1.2)\n",
      "Requirement already satisfied: six in /home/yori/Documents/School/3ITF/DL/envs/paintings/lib/python3.8/site-packages (from packaging->fastai) (1.15.0)\n",
      "Requirement already satisfied: pyparsing>=2.0.2 in /home/yori/Documents/School/3ITF/DL/envs/paintings/lib/python3.8/site-packages (from packaging->fastai) (2.4.7)\n",
      "Requirement already satisfied: numpy in /home/yori/Documents/School/3ITF/DL/envs/paintings/lib/python3.8/site-packages (from fastprogress>=0.2.4->fastai) (1.19.4)\n",
      "Requirement already satisfied: python-dateutil>=2.1 in /home/yori/Documents/School/3ITF/DL/envs/paintings/lib/python3.8/site-packages (from matplotlib->fastai) (2.8.1)\n",
      "Requirement already satisfied: kiwisolver>=1.0.1 in /home/yori/Documents/School/3ITF/DL/envs/paintings/lib/python3.8/site-packages (from matplotlib->fastai) (1.3.1)\n",
      "Requirement already satisfied: cycler>=0.10 in /home/yori/Documents/School/3ITF/DL/envs/paintings/lib/python3.8/site-packages (from matplotlib->fastai) (0.10.0)\n",
      "Requirement already satisfied: threadpoolctl>=2.0.0 in /home/yori/Documents/School/3ITF/DL/envs/paintings/lib/python3.8/site-packages (from scikit-learn->fastai) (2.1.0)\n",
      "Requirement already satisfied: joblib>=0.11 in /home/yori/Documents/School/3ITF/DL/envs/paintings/lib/python3.8/site-packages (from scikit-learn->fastai) (0.17.0)\n",
      "Requirement already satisfied: pytz>=2017.2 in /home/yori/Documents/School/3ITF/DL/envs/paintings/lib/python3.8/site-packages (from pandas->fastai) (2020.4)\n",
      "Requirement already satisfied: srsly<1.1.0,>=1.0.2 in /home/yori/Documents/School/3ITF/DL/envs/paintings/lib/python3.8/site-packages (from spacy->fastai) (1.0.4)\n",
      "Requirement already satisfied: wasabi<1.1.0,>=0.4.0 in /home/yori/Documents/School/3ITF/DL/envs/paintings/lib/python3.8/site-packages (from spacy->fastai) (0.8.0)\n",
      "Requirement already satisfied: plac<1.2.0,>=0.9.6 in /home/yori/Documents/School/3ITF/DL/envs/paintings/lib/python3.8/site-packages (from spacy->fastai) (1.1.3)\n",
      "Requirement already satisfied: catalogue<1.1.0,>=0.0.7 in /home/yori/Documents/School/3ITF/DL/envs/paintings/lib/python3.8/site-packages (from spacy->fastai) (1.0.0)\n",
      "Requirement already satisfied: setuptools in /home/yori/Documents/School/3ITF/DL/envs/paintings/lib/python3.8/site-packages (from spacy->fastai) (44.0.0)\n",
      "Requirement already satisfied: tqdm<5.0.0,>=4.38.0 in /home/yori/Documents/School/3ITF/DL/envs/paintings/lib/python3.8/site-packages (from spacy->fastai) (4.54.0)\n",
      "Requirement already satisfied: cymem<2.1.0,>=2.0.2 in /home/yori/Documents/School/3ITF/DL/envs/paintings/lib/python3.8/site-packages (from spacy->fastai) (2.0.4)\n",
      "Requirement already satisfied: murmurhash<1.1.0,>=0.28.0 in /home/yori/Documents/School/3ITF/DL/envs/paintings/lib/python3.8/site-packages (from spacy->fastai) (1.0.4)\n",
      "Requirement already satisfied: preshed<3.1.0,>=3.0.2 in /home/yori/Documents/School/3ITF/DL/envs/paintings/lib/python3.8/site-packages (from spacy->fastai) (3.0.4)\n",
      "Requirement already satisfied: blis<0.8.0,>=0.4.0; python_version >= \"3.6\" in /home/yori/Documents/School/3ITF/DL/envs/paintings/lib/python3.8/site-packages (from spacy->fastai) (0.7.3)\n",
      "Requirement already satisfied: thinc<7.5.0,>=7.4.1 in /home/yori/Documents/School/3ITF/DL/envs/paintings/lib/python3.8/site-packages (from spacy->fastai) (7.4.3)\n",
      "Requirement already satisfied: future in /home/yori/Documents/School/3ITF/DL/envs/paintings/lib/python3.8/site-packages (from torch>=1.7.0->fastai) (0.18.2)\n",
      "Requirement already satisfied: typing-extensions in /home/yori/Documents/School/3ITF/DL/envs/paintings/lib/python3.8/site-packages (from torch>=1.7.0->fastai) (3.7.4.3)\n",
      "Requirement already satisfied: dataclasses in /home/yori/Documents/School/3ITF/DL/envs/paintings/lib/python3.8/site-packages (from torch>=1.7.0->fastai) (0.6)\n"
     ]
    }
   ],
   "source": [
    "!pip install requests fastai"
   ]
  },
  {
   "cell_type": "code",
   "execution_count": 12,
   "metadata": {},
   "outputs": [],
   "source": [
    "import math\n",
    "import requests\n",
    "def search_bing_images(key, term, count=150):\n",
    "    subscription_key = key\n",
    "    search_url = 'https://api.bing.microsoft.com/v7.0/images/search'\n",
    "    search_term = term\n",
    "    headers  = {\"Ocp-Apim-Subscription-Key\":subscription_key}\n",
    "    \n",
    "    total = []\n",
    "    \n",
    "    if(count>150):\n",
    "        rest = count\n",
    "        amount = math.ceil(count/150)\n",
    "        for i in range(amount):\n",
    "            params = {\"q\":search_term, 'mkt':'en-US', 'count': 150 if rest>150 else rest, 'offset':i*150, \"license\":\"public\", \"imageType\":\"photo\"}\n",
    "            rest-=150\n",
    "            response = requests.get(search_url, headers=headers, params=params)\n",
    "            response.raise_for_status()\n",
    "            search_results = response.json()\n",
    "            thumbnails = [img['thumbnailUrl'] for img in search_results['value']]\n",
    "            total.extend(thumbnails)\n",
    "    else:\n",
    "        params = {\"q\":search_term,'mkt':'en-US', 'count':count , \"license\":\"public\", \"imageType\":\"photo\"}\n",
    "        response = requests.get(search_url, headers=headers, params=params)\n",
    "        response.raise_for_status()\n",
    "        search_results = response.json()\n",
    "        thumbnails = [img['thumbnailUrl'] for img in search_results['value']]\n",
    "        total = thumbnails\n",
    "        \n",
    "    return total"
   ]
  },
  {
   "cell_type": "markdown",
   "metadata": {},
   "source": [
    "Use the helper function to retreive 100 van gogh images. "
   ]
  },
  {
   "cell_type": "code",
   "execution_count": 13,
   "metadata": {
    "scrolled": true
   },
   "outputs": [],
   "source": [
    "van_gogh_images = search_bing_images('api-key', 'van gogh paintings', count=100)"
   ]
  },
  {
   "cell_type": "code",
   "execution_count": 14,
   "metadata": {},
   "outputs": [],
   "source": [
    "from fastai.vision.all import *"
   ]
  },
  {
   "cell_type": "markdown",
   "metadata": {},
   "source": [
    "Download the images to a folder. Temp folder atm -> resources/van-gogh"
   ]
  },
  {
   "cell_type": "code",
   "execution_count": 15,
   "metadata": {
    "scrolled": true
   },
   "outputs": [
    {
     "data": {
      "text/html": [],
      "text/plain": [
       "<IPython.core.display.HTML object>"
      ]
     },
     "metadata": {},
     "output_type": "display_data"
    }
   ],
   "source": [
    "download_images('resources/van-gogh', urls=van_gogh_images, n_workers=1) #n_workers = 1 because microsoft :( "
   ]
  },
  {
   "cell_type": "markdown",
   "metadata": {},
   "source": [
    "Now we can read the files"
   ]
  },
  {
   "cell_type": "code",
   "execution_count": 19,
   "metadata": {},
   "outputs": [],
   "source": [
    "images = get_image_files('./resources/van-gogh')"
   ]
  },
  {
   "cell_type": "code",
   "execution_count": 20,
   "metadata": {},
   "outputs": [
    {
     "data": {
      "text/plain": [
       "(#0) []"
      ]
     },
     "execution_count": 20,
     "metadata": {},
     "output_type": "execute_result"
    }
   ],
   "source": [
    "images"
   ]
  },
  {
   "cell_type": "markdown",
   "metadata": {},
   "source": [
    "And print them 😊"
   ]
  },
  {
   "cell_type": "code",
   "execution_count": 21,
   "metadata": {
    "scrolled": false
   },
   "outputs": [
    {
     "ename": "IndexError",
     "evalue": "list index out of range",
     "output_type": "error",
     "traceback": [
      "\u001b[0;31m---------------------------------------------------------------------------\u001b[0m",
      "\u001b[0;31mIndexError\u001b[0m                                Traceback (most recent call last)",
      "\u001b[0;32m<ipython-input-21-27a692390b21>\u001b[0m in \u001b[0;36m<module>\u001b[0;34m\u001b[0m\n\u001b[0;32m----> 1\u001b[0;31m \u001b[0mim\u001b[0m \u001b[0;34m=\u001b[0m \u001b[0mImage\u001b[0m\u001b[0;34m.\u001b[0m\u001b[0mopen\u001b[0m\u001b[0;34m(\u001b[0m\u001b[0mimages\u001b[0m\u001b[0;34m[\u001b[0m\u001b[0;36m0\u001b[0m\u001b[0;34m]\u001b[0m\u001b[0;34m)\u001b[0m\u001b[0;34m\u001b[0m\u001b[0;34m\u001b[0m\u001b[0m\n\u001b[0m\u001b[1;32m      2\u001b[0m \u001b[0mim\u001b[0m\u001b[0;34m.\u001b[0m\u001b[0mto_thumb\u001b[0m\u001b[0;34m(\u001b[0m\u001b[0;36m128\u001b[0m\u001b[0;34m,\u001b[0m\u001b[0;36m128\u001b[0m\u001b[0;34m)\u001b[0m\u001b[0;34m\u001b[0m\u001b[0;34m\u001b[0m\u001b[0m\n",
      "\u001b[0;32m~/Documents/School/3ITF/DL/envs/paintings/lib/python3.8/site-packages/fastcore/foundation.py\u001b[0m in \u001b[0;36m__getitem__\u001b[0;34m(self, idx)\u001b[0m\n\u001b[1;32m    134\u001b[0m     \u001b[0;32mdef\u001b[0m \u001b[0m_xtra\u001b[0m\u001b[0;34m(\u001b[0m\u001b[0mself\u001b[0m\u001b[0;34m)\u001b[0m\u001b[0;34m:\u001b[0m \u001b[0;32mreturn\u001b[0m \u001b[0;32mNone\u001b[0m\u001b[0;34m\u001b[0m\u001b[0;34m\u001b[0m\u001b[0m\n\u001b[1;32m    135\u001b[0m     \u001b[0;32mdef\u001b[0m \u001b[0m_new\u001b[0m\u001b[0;34m(\u001b[0m\u001b[0mself\u001b[0m\u001b[0;34m,\u001b[0m \u001b[0mitems\u001b[0m\u001b[0;34m,\u001b[0m \u001b[0;34m*\u001b[0m\u001b[0margs\u001b[0m\u001b[0;34m,\u001b[0m \u001b[0;34m**\u001b[0m\u001b[0mkwargs\u001b[0m\u001b[0;34m)\u001b[0m\u001b[0;34m:\u001b[0m \u001b[0;32mreturn\u001b[0m \u001b[0mtype\u001b[0m\u001b[0;34m(\u001b[0m\u001b[0mself\u001b[0m\u001b[0;34m)\u001b[0m\u001b[0;34m(\u001b[0m\u001b[0mitems\u001b[0m\u001b[0;34m,\u001b[0m \u001b[0;34m*\u001b[0m\u001b[0margs\u001b[0m\u001b[0;34m,\u001b[0m \u001b[0muse_list\u001b[0m\u001b[0;34m=\u001b[0m\u001b[0;32mNone\u001b[0m\u001b[0;34m,\u001b[0m \u001b[0;34m**\u001b[0m\u001b[0mkwargs\u001b[0m\u001b[0;34m)\u001b[0m\u001b[0;34m\u001b[0m\u001b[0;34m\u001b[0m\u001b[0m\n\u001b[0;32m--> 136\u001b[0;31m     \u001b[0;32mdef\u001b[0m \u001b[0m__getitem__\u001b[0m\u001b[0;34m(\u001b[0m\u001b[0mself\u001b[0m\u001b[0;34m,\u001b[0m \u001b[0midx\u001b[0m\u001b[0;34m)\u001b[0m\u001b[0;34m:\u001b[0m \u001b[0;32mreturn\u001b[0m \u001b[0mself\u001b[0m\u001b[0;34m.\u001b[0m\u001b[0m_get\u001b[0m\u001b[0;34m(\u001b[0m\u001b[0midx\u001b[0m\u001b[0;34m)\u001b[0m \u001b[0;32mif\u001b[0m \u001b[0mis_indexer\u001b[0m\u001b[0;34m(\u001b[0m\u001b[0midx\u001b[0m\u001b[0;34m)\u001b[0m \u001b[0;32melse\u001b[0m \u001b[0mL\u001b[0m\u001b[0;34m(\u001b[0m\u001b[0mself\u001b[0m\u001b[0;34m.\u001b[0m\u001b[0m_get\u001b[0m\u001b[0;34m(\u001b[0m\u001b[0midx\u001b[0m\u001b[0;34m)\u001b[0m\u001b[0;34m,\u001b[0m \u001b[0muse_list\u001b[0m\u001b[0;34m=\u001b[0m\u001b[0;32mNone\u001b[0m\u001b[0;34m)\u001b[0m\u001b[0;34m\u001b[0m\u001b[0;34m\u001b[0m\u001b[0m\n\u001b[0m\u001b[1;32m    137\u001b[0m     \u001b[0;32mdef\u001b[0m \u001b[0mcopy\u001b[0m\u001b[0;34m(\u001b[0m\u001b[0mself\u001b[0m\u001b[0;34m)\u001b[0m\u001b[0;34m:\u001b[0m \u001b[0;32mreturn\u001b[0m \u001b[0mself\u001b[0m\u001b[0;34m.\u001b[0m\u001b[0m_new\u001b[0m\u001b[0;34m(\u001b[0m\u001b[0mself\u001b[0m\u001b[0;34m.\u001b[0m\u001b[0mitems\u001b[0m\u001b[0;34m.\u001b[0m\u001b[0mcopy\u001b[0m\u001b[0;34m(\u001b[0m\u001b[0;34m)\u001b[0m\u001b[0;34m)\u001b[0m\u001b[0;34m\u001b[0m\u001b[0;34m\u001b[0m\u001b[0m\n\u001b[1;32m    138\u001b[0m \u001b[0;34m\u001b[0m\u001b[0m\n",
      "\u001b[0;32m~/Documents/School/3ITF/DL/envs/paintings/lib/python3.8/site-packages/fastcore/foundation.py\u001b[0m in \u001b[0;36m_get\u001b[0;34m(self, i)\u001b[0m\n\u001b[1;32m    138\u001b[0m \u001b[0;34m\u001b[0m\u001b[0m\n\u001b[1;32m    139\u001b[0m     \u001b[0;32mdef\u001b[0m \u001b[0m_get\u001b[0m\u001b[0;34m(\u001b[0m\u001b[0mself\u001b[0m\u001b[0;34m,\u001b[0m \u001b[0mi\u001b[0m\u001b[0;34m)\u001b[0m\u001b[0;34m:\u001b[0m\u001b[0;34m\u001b[0m\u001b[0;34m\u001b[0m\u001b[0m\n\u001b[0;32m--> 140\u001b[0;31m         \u001b[0;32mif\u001b[0m \u001b[0mis_indexer\u001b[0m\u001b[0;34m(\u001b[0m\u001b[0mi\u001b[0m\u001b[0;34m)\u001b[0m \u001b[0;32mor\u001b[0m \u001b[0misinstance\u001b[0m\u001b[0;34m(\u001b[0m\u001b[0mi\u001b[0m\u001b[0;34m,\u001b[0m\u001b[0mslice\u001b[0m\u001b[0;34m)\u001b[0m\u001b[0;34m:\u001b[0m \u001b[0;32mreturn\u001b[0m \u001b[0mgetattr\u001b[0m\u001b[0;34m(\u001b[0m\u001b[0mself\u001b[0m\u001b[0;34m.\u001b[0m\u001b[0mitems\u001b[0m\u001b[0;34m,\u001b[0m\u001b[0;34m'iloc'\u001b[0m\u001b[0;34m,\u001b[0m\u001b[0mself\u001b[0m\u001b[0;34m.\u001b[0m\u001b[0mitems\u001b[0m\u001b[0;34m)\u001b[0m\u001b[0;34m[\u001b[0m\u001b[0mi\u001b[0m\u001b[0;34m]\u001b[0m\u001b[0;34m\u001b[0m\u001b[0;34m\u001b[0m\u001b[0m\n\u001b[0m\u001b[1;32m    141\u001b[0m         \u001b[0mi\u001b[0m \u001b[0;34m=\u001b[0m \u001b[0mmask2idxs\u001b[0m\u001b[0;34m(\u001b[0m\u001b[0mi\u001b[0m\u001b[0;34m)\u001b[0m\u001b[0;34m\u001b[0m\u001b[0;34m\u001b[0m\u001b[0m\n\u001b[1;32m    142\u001b[0m         return (self.items.iloc[list(i)] if hasattr(self.items,'iloc')\n",
      "\u001b[0;31mIndexError\u001b[0m: list index out of range"
     ]
    }
   ],
   "source": [
    "im = Image.open(images[0])\n",
    "im.to_thumb(128,128)"
   ]
  },
  {
   "cell_type": "markdown",
   "metadata": {},
   "source": [
    "Now let's repeat the process for other painters but let's automate the process because I'm lazy 😁"
   ]
  },
  {
   "cell_type": "code",
   "execution_count": 22,
   "metadata": {},
   "outputs": [],
   "source": [
    "painters = ['van gogh', 'da vinci', 'cezanne', 'monet', 'dali', 'picasso']"
   ]
  },
  {
   "cell_type": "code",
   "execution_count": 25,
   "metadata": {},
   "outputs": [],
   "source": [
    "def download_paintings(painters):  \n",
    "    for painter in painters:      \n",
    "        print(f'Downloading {painter}')\n",
    "        path = 'resources/'+ '-'.join(painter.split())\n",
    "        query = painter + ' paintings'\n",
    "        urls = search_bing_images('api-key', query, count=300)\n",
    "        download_images(path, urls=urls, n_workers=1)\n",
    "        print(f'Finished {painter}')"
   ]
  },
  {
   "cell_type": "code",
   "execution_count": 26,
   "metadata": {
    "scrolled": true
   },
   "outputs": [
    {
     "name": "stdout",
     "output_type": "stream",
     "text": [
      "Downloading van gogh\n"
     ]
    },
    {
     "data": {
      "text/html": [],
      "text/plain": [
       "<IPython.core.display.HTML object>"
      ]
     },
     "metadata": {},
     "output_type": "display_data"
    },
    {
     "name": "stdout",
     "output_type": "stream",
     "text": [
      "Finished van gogh\n",
      "Downloading da vinci\n"
     ]
    },
    {
     "data": {
      "text/html": [],
      "text/plain": [
       "<IPython.core.display.HTML object>"
      ]
     },
     "metadata": {},
     "output_type": "display_data"
    },
    {
     "name": "stdout",
     "output_type": "stream",
     "text": [
      "Finished da vinci\n",
      "Downloading cezanne\n"
     ]
    },
    {
     "data": {
      "text/html": [],
      "text/plain": [
       "<IPython.core.display.HTML object>"
      ]
     },
     "metadata": {},
     "output_type": "display_data"
    },
    {
     "name": "stdout",
     "output_type": "stream",
     "text": [
      "Finished cezanne\n",
      "Downloading monet\n"
     ]
    },
    {
     "data": {
      "text/html": [],
      "text/plain": [
       "<IPython.core.display.HTML object>"
      ]
     },
     "metadata": {},
     "output_type": "display_data"
    },
    {
     "name": "stdout",
     "output_type": "stream",
     "text": [
      "Finished monet\n",
      "Downloading dali\n"
     ]
    },
    {
     "data": {
      "text/html": [],
      "text/plain": [
       "<IPython.core.display.HTML object>"
      ]
     },
     "metadata": {},
     "output_type": "display_data"
    },
    {
     "name": "stdout",
     "output_type": "stream",
     "text": [
      "Finished dali\n",
      "Downloading picasso\n"
     ]
    },
    {
     "data": {
      "text/html": [],
      "text/plain": [
       "<IPython.core.display.HTML object>"
      ]
     },
     "metadata": {},
     "output_type": "display_data"
    },
    {
     "name": "stdout",
     "output_type": "stream",
     "text": [
      "Finished picasso\n"
     ]
    }
   ],
   "source": [
    "download_paintings(painters)"
   ]
  },
  {
   "cell_type": "code",
   "execution_count": null,
   "metadata": {},
   "outputs": [],
   "source": []
  }
 ],
 "metadata": {
  "kernelspec": {
   "display_name": "Python 3",
   "language": "python",
   "name": "python3"
  },
  "language_info": {
   "codemirror_mode": {
    "name": "ipython",
    "version": 3
   },
   "file_extension": ".py",
   "mimetype": "text/x-python",
   "name": "python",
   "nbconvert_exporter": "python",
   "pygments_lexer": "ipython3",
   "version": "3.8.5"
  }
 },
 "nbformat": 4,
 "nbformat_minor": 4
}
